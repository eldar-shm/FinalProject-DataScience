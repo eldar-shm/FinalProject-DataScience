{
 "cells": [
  {
   "cell_type": "code",
   "execution_count": 67,
   "id": "22014ab9",
   "metadata": {},
   "outputs": [],
   "source": [
    "import pandas as pd\n",
    "import numpy as np\n",
    "import matplotlib as mpl\n",
    "from matplotlib import pyplot as plt\n",
    "import seaborn as sns\n",
    "from scipy.stats import chi2_contingency\n",
    "from mpl_toolkits.mplot3d import Axes3D\n",
    "from sklearn import linear_model\n",
    "%matplotlib inline\n",
    "df=pd.read_csv('Data.csv',header=0,sep=',')\n",
    "mycolors = ['#002856', '#EAC71B']\n",
    "df.drop(columns = df.columns[0], inplace=True)\n",
    "df.drop(columns=df.columns[0], inplace=True)"
   ]
  },
  {
   "cell_type": "code",
   "execution_count": 65,
   "id": "894c91a1",
   "metadata": {
    "scrolled": true
   },
   "outputs": [
    {
     "name": "stdout",
     "output_type": "stream",
     "text": [
      "<class 'pandas.core.frame.DataFrame'>\n",
      "RangeIndex: 2567 entries, 0 to 2566\n",
      "Data columns (total 26 columns):\n",
      " #   Column         Non-Null Count  Dtype  \n",
      "---  ------         --------------  -----  \n",
      " 0   ID             2567 non-null   int64  \n",
      " 1   Name           2567 non-null   object \n",
      " 2   Team           2567 non-null   object \n",
      " 3   GP             2567 non-null   int64  \n",
      " 4   Minute         2567 non-null   float64\n",
      " 5   Points         2567 non-null   float64\n",
      " 6   FGM            2567 non-null   float64\n",
      " 7   FGA            2567 non-null   float64\n",
      " 8   FG_P           2567 non-null   float64\n",
      " 9   3PM            2567 non-null   float64\n",
      " 10  3PA            2567 non-null   float64\n",
      " 11  3P%            2567 non-null   float64\n",
      " 12  FTM            2567 non-null   float64\n",
      " 13  FTA            2567 non-null   float64\n",
      " 14  FT%            2567 non-null   float64\n",
      " 15  OREB           2567 non-null   float64\n",
      " 16  DREB           2567 non-null   float64\n",
      " 17  REB            2567 non-null   float64\n",
      " 18  AST            2567 non-null   float64\n",
      " 19  STL            2567 non-null   float64\n",
      " 20  BLK            2567 non-null   float64\n",
      " 21  TOV            2567 non-null   float64\n",
      " 22  EFF            2567 non-null   float64\n",
      " 23  BIO            2567 non-null   object \n",
      " 24  Season Number  2567 non-null   float64\n",
      " 25  ASP            2567 non-null   int64  \n",
      "dtypes: float64(20), int64(3), object(3)\n",
      "memory usage: 521.5+ KB\n"
     ]
    },
    {
     "data": {
      "text/plain": [
       "0"
      ]
     },
     "execution_count": 65,
     "metadata": {},
     "output_type": "execute_result"
    }
   ],
   "source": [
    "df.info()\n",
    "df.duplicated().sum()# test for duplicated lines "
   ]
  },
  {
   "cell_type": "code",
   "execution_count": 62,
   "id": "807bc1bb",
   "metadata": {},
   "outputs": [
    {
     "data": {
      "text/plain": [
       "(array([ 30.,  40.,  36.,  56.,  52.,  39.,   9.,   0.,   0.,   0.,   1.,\n",
       "          3.,   5.,  31.,  32.,  42.,  93., 120., 156.,  81., 156., 179.,\n",
       "        180., 152., 199., 172., 172., 163., 224., 144.]),\n",
       " array([26. , 27.9, 29.8, 31.7, 33.6, 35.5, 37.4, 39.3, 41.2, 43.1, 45. ,\n",
       "        46.9, 48.8, 50.7, 52.6, 54.5, 56.4, 58.3, 60.2, 62.1, 64. , 65.9,\n",
       "        67.8, 69.7, 71.6, 73.5, 75.4, 77.3, 79.2, 81.1, 83. ]),\n",
       " <BarContainer object of 30 artists>)"
      ]
     },
     "execution_count": 62,
     "metadata": {},
     "output_type": "execute_result"
    },
    {
     "data": {
      "image/png": "[encoded data removed]",
      "text/plain": [
       "<Figure size 432x288 with 1 Axes>"
      ]
     },
     "metadata": {
      "needs_background": "light"
     },
     "output_type": "display_data"
    }
   ],
   "source": [
    "plt.hist(df[\"GP\"],bins=30)#שכיחות כמות משחקים ששוחקו ביחס לכמות מופעים \n"
   ]
  },
  {
   "cell_type": "code",
   "execution_count": 63,
   "id": "4b2b340e",
   "metadata": {},
   "outputs": [
    {
     "data": {
      "text/plain": [
       "(array([ 1.,  0.,  0.,  0.,  0.,  0.,  1.,  0.,  1.,  0.,  2.,  3.,  2.,\n",
       "         6.,  1.,  2.,  3.,  4.,  5., 10.,  7., 15., 10., 13.,  7.,  9.,\n",
       "        22., 20., 27., 18., 24., 35., 27., 29., 36., 31., 44., 26., 27.,\n",
       "        41., 33., 39., 51., 26., 46., 35., 32., 33., 33., 38., 27., 32.,\n",
       "        49., 28., 41., 25., 31., 45., 39., 34., 47., 37., 36., 51., 35.,\n",
       "        37., 47., 33., 61., 33., 38., 37., 31., 50., 29., 36., 53., 31.,\n",
       "        54., 37., 43., 45., 34., 37., 43., 42., 47., 35., 31., 39., 22.,\n",
       "        30., 29., 15., 19.,  2.,  4.,  5.,  2.,  4.]),\n",
       " array([ 4.9  ,  5.238,  5.576,  5.914,  6.252,  6.59 ,  6.928,  7.266,\n",
       "         7.604,  7.942,  8.28 ,  8.618,  8.956,  9.294,  9.632,  9.97 ,\n",
       "        10.308, 10.646, 10.984, 11.322, 11.66 , 11.998, 12.336, 12.674,\n",
       "        13.012, 13.35 , 13.688, 14.026, 14.364, 14.702, 15.04 , 15.378,\n",
       "        15.716, 16.054, 16.392, 16.73 , 17.068, 17.406, 17.744, 18.082,\n",
       "        18.42 , 18.758, 19.096, 19.434, 19.772, 20.11 , 20.448, 20.786,\n",
       "        21.124, 21.462, 21.8  , 22.138, 22.476, 22.814, 23.152, 23.49 ,\n",
       "        23.828, 24.166, 24.504, 24.842, 25.18 , 25.518, 25.856, 26.194,\n",
       "        26.532, 26.87 , 27.208, 27.546, 27.884, 28.222, 28.56 , 28.898,\n",
       "        29.236, 29.574, 29.912, 30.25 , 30.588, 30.926, 31.264, 31.602,\n",
       "        31.94 , 32.278, 32.616, 32.954, 33.292, 33.63 , 33.968, 34.306,\n",
       "        34.644, 34.982, 35.32 , 35.658, 35.996, 36.334, 36.672, 37.01 ,\n",
       "        37.348, 37.686, 38.024, 38.362, 38.7  ]),\n",
       " <BarContainer object of 100 artists>)"
      ]
     },
     "execution_count": 63,
     "metadata": {},
     "output_type": "execute_result"
    },
    {
     "data": {
      "image/png": "[encoded data removed]",
      "text/plain": [
       "<Figure size 432x288 with 1 Axes>"
      ]
     },
     "metadata": {
      "needs_background": "light"
     },
     "output_type": "display_data"
    }
   ],
   "source": [
    "plt.hist(df[\"Minute\"],bins=100)#שכיחות של דקות משחק ביחס לכמות למופעים"
   ]
  },
  {
   "cell_type": "code",
   "execution_count": 39,
   "id": "72002ef7",
   "metadata": {},
   "outputs": [
    {
     "data": {
      "image/png": "[encoded data removed]",
      "text/plain": [
       "<Figure size 432x288 with 1 Axes>"
      ]
     },
     "metadata": {
      "needs_background": "light"
     },
     "output_type": "display_data"
    }
   ],
   "source": [
    "\n",
    "# Select only the rows of the dataframe that correspond to the player you want to plot in a different color\n",
    "player_df = df[df['Name'] == 'LeBron James']\n",
    "\n",
    "# Extract the FGA and FGM columns from the dataframe\n",
    "FGA = player_df['FGA']\n",
    "FGM = player_df['FGM']\n",
    "\n",
    "# Create a scatter plot for the player you want to plot in a different color\n",
    "plt.scatter(FGA, FGM, c='red', label='LeBron James')\n",
    "\n",
    "# Select all the rows of the dataframe except for the player you want to plot in a different color\n",
    "other_players_df = df[df['Name'] != 'LeBron James']\n",
    "\n",
    "# Extract the FGA and FGM columns from the dataframe\n",
    "FGA = other_players_df['FGA']\n",
    "FGM = other_players_df['FGM']\n",
    "\n",
    "# Create a scatter plot for the other players\n",
    "plt.scatter(FGA, FGM, c='blue', label='Other Players')\n",
    "\n",
    "# Add a title and axis labels\n",
    "plt.title('Field Goal Attempts and Makes')\n",
    "plt.xlabel('Field Goal Attempts')\n",
    "plt.ylabel('Field Goals Made')\n",
    "\n",
    "# Add a legend\n",
    "plt.legend()\n",
    "\n",
    "# Show the plot\n",
    "plt.show()\n",
    "\n"
   ]
  },
  {
   "cell_type": "code",
   "execution_count": 40,
   "id": "3f32623c",
   "metadata": {},
   "outputs": [
    {
     "data": {
      "text/plain": [
       "0.01090767432800935"
      ]
     },
     "execution_count": 40,
     "metadata": {},
     "output_type": "execute_result"
    }
   ],
   "source": [
    "# אפשר לחשב E[X] עי כמות זריקות לחלק כמות קליעות כפול סיגמה שרצה על כמות השחקנים  \n",
    "#נחשב הסתברות לבחירת שחקן שקלע למעלה מ11 קליעות במשחק\n",
    "df.FGM[df.FGM>10].count()/df.FGM.count()"
   ]
  },
  {
   "cell_type": "code",
   "execution_count": 41,
   "id": "3baf1fcb",
   "metadata": {},
   "outputs": [
    {
     "data": {
      "text/html": [
       "<div>\n",
       "<style scoped>\n",
       "    .dataframe tbody tr th:only-of-type {\n",
       "        vertical-align: middle;\n",
       "    }\n",
       "\n",
       "    .dataframe tbody tr th {\n",
       "        vertical-align: top;\n",
       "    }\n",
       "\n",
       "    .dataframe thead th {\n",
       "        text-align: right;\n",
       "    }\n",
       "</style>\n",
       "<table border=\"1\" class=\"dataframe\">\n",
       "  <thead>\n",
       "    <tr style=\"text-align: right;\">\n",
       "      <th></th>\n",
       "      <th>Unnamed: 0.1</th>\n",
       "      <th>Unnamed: 0</th>\n",
       "      <th>ID</th>\n",
       "      <th>Name</th>\n",
       "      <th>Team</th>\n",
       "      <th>GP</th>\n",
       "      <th>Minute</th>\n",
       "      <th>Points</th>\n",
       "      <th>FGM</th>\n",
       "      <th>FGA</th>\n",
       "      <th>...</th>\n",
       "      <th>DREB</th>\n",
       "      <th>REB</th>\n",
       "      <th>AST</th>\n",
       "      <th>STL</th>\n",
       "      <th>BLK</th>\n",
       "      <th>TOV</th>\n",
       "      <th>EFF</th>\n",
       "      <th>BIO</th>\n",
       "      <th>Season Number</th>\n",
       "      <th>ASP</th>\n",
       "    </tr>\n",
       "  </thead>\n",
       "  <tbody>\n",
       "    <tr>\n",
       "      <th>count</th>\n",
       "      <td>2567.000000</td>\n",
       "      <td>2567.000000</td>\n",
       "      <td>2567.000000</td>\n",
       "      <td>2567</td>\n",
       "      <td>2567</td>\n",
       "      <td>2567.000000</td>\n",
       "      <td>2567.000000</td>\n",
       "      <td>2567.000000</td>\n",
       "      <td>2567.000000</td>\n",
       "      <td>2567.000000</td>\n",
       "      <td>...</td>\n",
       "      <td>2567.000000</td>\n",
       "      <td>2567.000000</td>\n",
       "      <td>2567.000000</td>\n",
       "      <td>2567.000000</td>\n",
       "      <td>2567.000000</td>\n",
       "      <td>2567.000000</td>\n",
       "      <td>2567.000000</td>\n",
       "      <td>2567</td>\n",
       "      <td>2567.000000</td>\n",
       "      <td>2567.000000</td>\n",
       "    </tr>\n",
       "    <tr>\n",
       "      <th>unique</th>\n",
       "      <td>NaN</td>\n",
       "      <td>NaN</td>\n",
       "      <td>NaN</td>\n",
       "      <td>741</td>\n",
       "      <td>30</td>\n",
       "      <td>NaN</td>\n",
       "      <td>NaN</td>\n",
       "      <td>NaN</td>\n",
       "      <td>NaN</td>\n",
       "      <td>NaN</td>\n",
       "      <td>...</td>\n",
       "      <td>NaN</td>\n",
       "      <td>NaN</td>\n",
       "      <td>NaN</td>\n",
       "      <td>NaN</td>\n",
       "      <td>NaN</td>\n",
       "      <td>NaN</td>\n",
       "      <td>NaN</td>\n",
       "      <td>310</td>\n",
       "      <td>NaN</td>\n",
       "      <td>NaN</td>\n",
       "    </tr>\n",
       "    <tr>\n",
       "      <th>top</th>\n",
       "      <td>NaN</td>\n",
       "      <td>NaN</td>\n",
       "      <td>NaN</td>\n",
       "      <td>Harrison Barnes</td>\n",
       "      <td>SAS</td>\n",
       "      <td>NaN</td>\n",
       "      <td>NaN</td>\n",
       "      <td>NaN</td>\n",
       "      <td>NaN</td>\n",
       "      <td>NaN</td>\n",
       "      <td>...</td>\n",
       "      <td>NaN</td>\n",
       "      <td>NaN</td>\n",
       "      <td>NaN</td>\n",
       "      <td>NaN</td>\n",
       "      <td>NaN</td>\n",
       "      <td>NaN</td>\n",
       "      <td>NaN</td>\n",
       "      <td>non</td>\n",
       "      <td>NaN</td>\n",
       "      <td>NaN</td>\n",
       "    </tr>\n",
       "    <tr>\n",
       "      <th>freq</th>\n",
       "      <td>NaN</td>\n",
       "      <td>NaN</td>\n",
       "      <td>NaN</td>\n",
       "      <td>10</td>\n",
       "      <td>101</td>\n",
       "      <td>NaN</td>\n",
       "      <td>NaN</td>\n",
       "      <td>NaN</td>\n",
       "      <td>NaN</td>\n",
       "      <td>NaN</td>\n",
       "      <td>...</td>\n",
       "      <td>NaN</td>\n",
       "      <td>NaN</td>\n",
       "      <td>NaN</td>\n",
       "      <td>NaN</td>\n",
       "      <td>NaN</td>\n",
       "      <td>NaN</td>\n",
       "      <td>NaN</td>\n",
       "      <td>1176</td>\n",
       "      <td>NaN</td>\n",
       "      <td>NaN</td>\n",
       "    </tr>\n",
       "    <tr>\n",
       "      <th>mean</th>\n",
       "      <td>1283.000000</td>\n",
       "      <td>1283.000000</td>\n",
       "      <td>129.189326</td>\n",
       "      <td>NaN</td>\n",
       "      <td>NaN</td>\n",
       "      <td>66.133619</td>\n",
       "      <td>25.213635</td>\n",
       "      <td>11.450604</td>\n",
       "      <td>4.227152</td>\n",
       "      <td>9.136424</td>\n",
       "      <td>...</td>\n",
       "      <td>3.521387</td>\n",
       "      <td>4.589014</td>\n",
       "      <td>2.499961</td>\n",
       "      <td>0.803350</td>\n",
       "      <td>0.499649</td>\n",
       "      <td>1.430541</td>\n",
       "      <td>12.944916</td>\n",
       "      <td>NaN</td>\n",
       "      <td>5.585898</td>\n",
       "      <td>0.073627</td>\n",
       "    </tr>\n",
       "    <tr>\n",
       "      <th>std</th>\n",
       "      <td>741.173394</td>\n",
       "      <td>741.173394</td>\n",
       "      <td>74.697358</td>\n",
       "      <td>NaN</td>\n",
       "      <td>NaN</td>\n",
       "      <td>13.847420</td>\n",
       "      <td>6.848963</td>\n",
       "      <td>5.928296</td>\n",
       "      <td>2.097149</td>\n",
       "      <td>4.426886</td>\n",
       "      <td>...</td>\n",
       "      <td>1.795745</td>\n",
       "      <td>2.466582</td>\n",
       "      <td>1.927587</td>\n",
       "      <td>0.390241</td>\n",
       "      <td>0.445297</td>\n",
       "      <td>0.800678</td>\n",
       "      <td>6.009578</td>\n",
       "      <td>NaN</td>\n",
       "      <td>2.867210</td>\n",
       "      <td>0.261213</td>\n",
       "    </tr>\n",
       "    <tr>\n",
       "      <th>min</th>\n",
       "      <td>0.000000</td>\n",
       "      <td>0.000000</td>\n",
       "      <td>1.000000</td>\n",
       "      <td>NaN</td>\n",
       "      <td>NaN</td>\n",
       "      <td>26.000000</td>\n",
       "      <td>4.900000</td>\n",
       "      <td>1.000000</td>\n",
       "      <td>0.300000</td>\n",
       "      <td>0.800000</td>\n",
       "      <td>...</td>\n",
       "      <td>0.500000</td>\n",
       "      <td>0.700000</td>\n",
       "      <td>0.100000</td>\n",
       "      <td>0.100000</td>\n",
       "      <td>0.000000</td>\n",
       "      <td>0.200000</td>\n",
       "      <td>1.300000</td>\n",
       "      <td>NaN</td>\n",
       "      <td>1.000000</td>\n",
       "      <td>0.000000</td>\n",
       "    </tr>\n",
       "    <tr>\n",
       "      <th>25%</th>\n",
       "      <td>641.500000</td>\n",
       "      <td>641.500000</td>\n",
       "      <td>65.000000</td>\n",
       "      <td>NaN</td>\n",
       "      <td>NaN</td>\n",
       "      <td>61.000000</td>\n",
       "      <td>19.550000</td>\n",
       "      <td>7.000000</td>\n",
       "      <td>2.700000</td>\n",
       "      <td>5.700000</td>\n",
       "      <td>...</td>\n",
       "      <td>2.200000</td>\n",
       "      <td>2.800000</td>\n",
       "      <td>1.100000</td>\n",
       "      <td>0.500000</td>\n",
       "      <td>0.200000</td>\n",
       "      <td>0.800000</td>\n",
       "      <td>8.600000</td>\n",
       "      <td>NaN</td>\n",
       "      <td>3.000000</td>\n",
       "      <td>0.000000</td>\n",
       "    </tr>\n",
       "    <tr>\n",
       "      <th>50%</th>\n",
       "      <td>1283.000000</td>\n",
       "      <td>1283.000000</td>\n",
       "      <td>129.000000</td>\n",
       "      <td>NaN</td>\n",
       "      <td>NaN</td>\n",
       "      <td>69.000000</td>\n",
       "      <td>25.600000</td>\n",
       "      <td>10.100000</td>\n",
       "      <td>3.700000</td>\n",
       "      <td>8.200000</td>\n",
       "      <td>...</td>\n",
       "      <td>3.100000</td>\n",
       "      <td>4.000000</td>\n",
       "      <td>1.800000</td>\n",
       "      <td>0.700000</td>\n",
       "      <td>0.400000</td>\n",
       "      <td>1.300000</td>\n",
       "      <td>11.800000</td>\n",
       "      <td>NaN</td>\n",
       "      <td>6.000000</td>\n",
       "      <td>0.000000</td>\n",
       "    </tr>\n",
       "    <tr>\n",
       "      <th>75%</th>\n",
       "      <td>1924.500000</td>\n",
       "      <td>1924.500000</td>\n",
       "      <td>193.000000</td>\n",
       "      <td>NaN</td>\n",
       "      <td>NaN</td>\n",
       "      <td>76.000000</td>\n",
       "      <td>31.000000</td>\n",
       "      <td>14.600000</td>\n",
       "      <td>5.500000</td>\n",
       "      <td>11.800000</td>\n",
       "      <td>...</td>\n",
       "      <td>4.300000</td>\n",
       "      <td>5.700000</td>\n",
       "      <td>3.300000</td>\n",
       "      <td>1.000000</td>\n",
       "      <td>0.600000</td>\n",
       "      <td>1.800000</td>\n",
       "      <td>16.100000</td>\n",
       "      <td>NaN</td>\n",
       "      <td>8.000000</td>\n",
       "      <td>0.000000</td>\n",
       "    </tr>\n",
       "    <tr>\n",
       "      <th>max</th>\n",
       "      <td>2566.000000</td>\n",
       "      <td>2566.000000</td>\n",
       "      <td>271.000000</td>\n",
       "      <td>NaN</td>\n",
       "      <td>NaN</td>\n",
       "      <td>83.000000</td>\n",
       "      <td>38.700000</td>\n",
       "      <td>36.100000</td>\n",
       "      <td>11.600000</td>\n",
       "      <td>24.500000</td>\n",
       "      <td>...</td>\n",
       "      <td>11.400000</td>\n",
       "      <td>16.000000</td>\n",
       "      <td>11.700000</td>\n",
       "      <td>2.500000</td>\n",
       "      <td>3.700000</td>\n",
       "      <td>5.700000</td>\n",
       "      <td>38.700000</td>\n",
       "      <td>NaN</td>\n",
       "      <td>10.000000</td>\n",
       "      <td>1.000000</td>\n",
       "    </tr>\n",
       "  </tbody>\n",
       "</table>\n",
       "<p>11 rows × 28 columns</p>\n",
       "</div>"
      ],
      "text/plain": [
       "        Unnamed: 0.1   Unnamed: 0           ID             Name  Team  \\\n",
       "count    2567.000000  2567.000000  2567.000000             2567  2567   \n",
       "unique           NaN          NaN          NaN              741    30   \n",
       "top              NaN          NaN          NaN  Harrison Barnes   SAS   \n",
       "freq             NaN          NaN          NaN               10   101   \n",
       "mean     1283.000000  1283.000000   129.189326              NaN   NaN   \n",
       "std       741.173394   741.173394    74.697358              NaN   NaN   \n",
       "min         0.000000     0.000000     1.000000              NaN   NaN   \n",
       "25%       641.500000   641.500000    65.000000              NaN   NaN   \n",
       "50%      1283.000000  1283.000000   129.000000              NaN   NaN   \n",
       "75%      1924.500000  1924.500000   193.000000              NaN   NaN   \n",
       "max      2566.000000  2566.000000   271.000000              NaN   NaN   \n",
       "\n",
       "                 GP       Minute       Points          FGM          FGA  ...  \\\n",
       "count   2567.000000  2567.000000  2567.000000  2567.000000  2567.000000  ...   \n",
       "unique          NaN          NaN          NaN          NaN          NaN  ...   \n",
       "top             NaN          NaN          NaN          NaN          NaN  ...   \n",
       "freq            NaN          NaN          NaN          NaN          NaN  ...   \n",
       "mean      66.133619    25.213635    11.450604     4.227152     9.136424  ...   \n",
       "std       13.847420     6.848963     5.928296     2.097149     4.426886  ...   \n",
       "min       26.000000     4.900000     1.000000     0.300000     0.800000  ...   \n",
       "25%       61.000000    19.550000     7.000000     2.700000     5.700000  ...   \n",
       "50%       69.000000    25.600000    10.100000     3.700000     8.200000  ...   \n",
       "75%       76.000000    31.000000    14.600000     5.500000    11.800000  ...   \n",
       "max       83.000000    38.700000    36.100000    11.600000    24.500000  ...   \n",
       "\n",
       "               DREB          REB          AST          STL          BLK  \\\n",
       "count   2567.000000  2567.000000  2567.000000  2567.000000  2567.000000   \n",
       "unique          NaN          NaN          NaN          NaN          NaN   \n",
       "top             NaN          NaN          NaN          NaN          NaN   \n",
       "freq            NaN          NaN          NaN          NaN          NaN   \n",
       "mean       3.521387     4.589014     2.499961     0.803350     0.499649   \n",
       "std        1.795745     2.466582     1.927587     0.390241     0.445297   \n",
       "min        0.500000     0.700000     0.100000     0.100000     0.000000   \n",
       "25%        2.200000     2.800000     1.100000     0.500000     0.200000   \n",
       "50%        3.100000     4.000000     1.800000     0.700000     0.400000   \n",
       "75%        4.300000     5.700000     3.300000     1.000000     0.600000   \n",
       "max       11.400000    16.000000    11.700000     2.500000     3.700000   \n",
       "\n",
       "                TOV          EFF   BIO  Season Number          ASP  \n",
       "count   2567.000000  2567.000000  2567    2567.000000  2567.000000  \n",
       "unique          NaN          NaN   310            NaN          NaN  \n",
       "top             NaN          NaN   non            NaN          NaN  \n",
       "freq            NaN          NaN  1176            NaN          NaN  \n",
       "mean       1.430541    12.944916   NaN       5.585898     0.073627  \n",
       "std        0.800678     6.009578   NaN       2.867210     0.261213  \n",
       "min        0.200000     1.300000   NaN       1.000000     0.000000  \n",
       "25%        0.800000     8.600000   NaN       3.000000     0.000000  \n",
       "50%        1.300000    11.800000   NaN       6.000000     0.000000  \n",
       "75%        1.800000    16.100000   NaN       8.000000     0.000000  \n",
       "max        5.700000    38.700000   NaN      10.000000     1.000000  \n",
       "\n",
       "[11 rows x 28 columns]"
      ]
     },
     "execution_count": 41,
     "metadata": {},
     "output_type": "execute_result"
    }
   ],
   "source": [
    "#sns.boxplot(df.GP)\n",
    "df.describe(include='all')"
   ]
  },
  {
   "cell_type": "code",
   "execution_count": 42,
   "id": "ce968429",
   "metadata": {},
   "outputs": [
    {
     "data": {
      "text/html": [
       "<div>\n",
       "<style scoped>\n",
       "    .dataframe tbody tr th:only-of-type {\n",
       "        vertical-align: middle;\n",
       "    }\n",
       "\n",
       "    .dataframe tbody tr th {\n",
       "        vertical-align: top;\n",
       "    }\n",
       "\n",
       "    .dataframe thead th {\n",
       "        text-align: right;\n",
       "    }\n",
       "</style>\n",
       "<table border=\"1\" class=\"dataframe\">\n",
       "  <thead>\n",
       "    <tr style=\"text-align: right;\">\n",
       "      <th></th>\n",
       "      <th>Unnamed: 0.1</th>\n",
       "      <th>Unnamed: 0</th>\n",
       "      <th>ID</th>\n",
       "      <th>Name</th>\n",
       "      <th>Team</th>\n",
       "      <th>GP</th>\n",
       "      <th>Minute</th>\n",
       "      <th>Points</th>\n",
       "      <th>FGM</th>\n",
       "      <th>FGA</th>\n",
       "      <th>...</th>\n",
       "      <th>AST</th>\n",
       "      <th>STL</th>\n",
       "      <th>BLK</th>\n",
       "      <th>TOV</th>\n",
       "      <th>EFF</th>\n",
       "      <th>BIO</th>\n",
       "      <th>Season Number</th>\n",
       "      <th>ASP</th>\n",
       "      <th>EFF_binned</th>\n",
       "      <th>Minute_binned</th>\n",
       "    </tr>\n",
       "  </thead>\n",
       "  <tbody>\n",
       "    <tr>\n",
       "      <th>0</th>\n",
       "      <td>0</td>\n",
       "      <td>0</td>\n",
       "      <td>1</td>\n",
       "      <td>Luka Doncic</td>\n",
       "      <td>DAL</td>\n",
       "      <td>34</td>\n",
       "      <td>36.9</td>\n",
       "      <td>34.2</td>\n",
       "      <td>11.6</td>\n",
       "      <td>22.7</td>\n",
       "      <td>...</td>\n",
       "      <td>8.9</td>\n",
       "      <td>1.7</td>\n",
       "      <td>0.6</td>\n",
       "      <td>3.6</td>\n",
       "      <td>36.6</td>\n",
       "      <td>non</td>\n",
       "      <td>1.0</td>\n",
       "      <td>0</td>\n",
       "      <td>4</td>\n",
       "      <td>4</td>\n",
       "    </tr>\n",
       "    <tr>\n",
       "      <th>1</th>\n",
       "      <td>1</td>\n",
       "      <td>1</td>\n",
       "      <td>2</td>\n",
       "      <td>Joel Embiid</td>\n",
       "      <td>PHI</td>\n",
       "      <td>27</td>\n",
       "      <td>35.4</td>\n",
       "      <td>33.2</td>\n",
       "      <td>11.1</td>\n",
       "      <td>21.0</td>\n",
       "      <td>...</td>\n",
       "      <td>4.6</td>\n",
       "      <td>1.2</td>\n",
       "      <td>1.7</td>\n",
       "      <td>3.9</td>\n",
       "      <td>34.9</td>\n",
       "      <td>PROFESSIONAL CAREER\\nHolds career averages of ...</td>\n",
       "      <td>1.0</td>\n",
       "      <td>0</td>\n",
       "      <td>4</td>\n",
       "      <td>4</td>\n",
       "    </tr>\n",
       "    <tr>\n",
       "      <th>2</th>\n",
       "      <td>2</td>\n",
       "      <td>2</td>\n",
       "      <td>3</td>\n",
       "      <td>Giannis Antetokounmpo</td>\n",
       "      <td>MIL</td>\n",
       "      <td>30</td>\n",
       "      <td>33.7</td>\n",
       "      <td>32.1</td>\n",
       "      <td>11.5</td>\n",
       "      <td>21.5</td>\n",
       "      <td>...</td>\n",
       "      <td>5.2</td>\n",
       "      <td>0.9</td>\n",
       "      <td>0.9</td>\n",
       "      <td>3.8</td>\n",
       "      <td>32.4</td>\n",
       "      <td>PROFESSIONAL CAREER\\n2018-19 NBA MVP 3-time NB...</td>\n",
       "      <td>1.0</td>\n",
       "      <td>0</td>\n",
       "      <td>4</td>\n",
       "      <td>4</td>\n",
       "    </tr>\n",
       "    <tr>\n",
       "      <th>3</th>\n",
       "      <td>3</td>\n",
       "      <td>3</td>\n",
       "      <td>4</td>\n",
       "      <td>Jayson Tatum</td>\n",
       "      <td>BOS</td>\n",
       "      <td>35</td>\n",
       "      <td>36.9</td>\n",
       "      <td>30.9</td>\n",
       "      <td>10.1</td>\n",
       "      <td>21.4</td>\n",
       "      <td>...</td>\n",
       "      <td>4.1</td>\n",
       "      <td>1.2</td>\n",
       "      <td>0.9</td>\n",
       "      <td>2.7</td>\n",
       "      <td>29.8</td>\n",
       "      <td>PROFESSIONAL CAREER\\n2019-20: Appeared in 66 g...</td>\n",
       "      <td>1.0</td>\n",
       "      <td>0</td>\n",
       "      <td>3</td>\n",
       "      <td>4</td>\n",
       "    </tr>\n",
       "    <tr>\n",
       "      <th>4</th>\n",
       "      <td>4</td>\n",
       "      <td>4</td>\n",
       "      <td>5</td>\n",
       "      <td>Shai Gilgeous-Alexander</td>\n",
       "      <td>OKC</td>\n",
       "      <td>33</td>\n",
       "      <td>35.7</td>\n",
       "      <td>30.8</td>\n",
       "      <td>10.3</td>\n",
       "      <td>20.6</td>\n",
       "      <td>...</td>\n",
       "      <td>5.8</td>\n",
       "      <td>1.7</td>\n",
       "      <td>1.0</td>\n",
       "      <td>3.3</td>\n",
       "      <td>29.6</td>\n",
       "      <td>PROFESSIONAL CAREER\\nLed all rookies on +.500 ...</td>\n",
       "      <td>1.0</td>\n",
       "      <td>0</td>\n",
       "      <td>3</td>\n",
       "      <td>4</td>\n",
       "    </tr>\n",
       "  </tbody>\n",
       "</table>\n",
       "<p>5 rows × 30 columns</p>\n",
       "</div>"
      ],
      "text/plain": [
       "   Unnamed: 0.1  Unnamed: 0  ID                     Name Team  GP  Minute  \\\n",
       "0             0           0   1              Luka Doncic  DAL  34    36.9   \n",
       "1             1           1   2              Joel Embiid  PHI  27    35.4   \n",
       "2             2           2   3    Giannis Antetokounmpo  MIL  30    33.7   \n",
       "3             3           3   4             Jayson Tatum  BOS  35    36.9   \n",
       "4             4           4   5  Shai Gilgeous-Alexander  OKC  33    35.7   \n",
       "\n",
       "   Points   FGM   FGA  ...  AST  STL  BLK  TOV   EFF  \\\n",
       "0    34.2  11.6  22.7  ...  8.9  1.7  0.6  3.6  36.6   \n",
       "1    33.2  11.1  21.0  ...  4.6  1.2  1.7  3.9  34.9   \n",
       "2    32.1  11.5  21.5  ...  5.2  0.9  0.9  3.8  32.4   \n",
       "3    30.9  10.1  21.4  ...  4.1  1.2  0.9  2.7  29.8   \n",
       "4    30.8  10.3  20.6  ...  5.8  1.7  1.0  3.3  29.6   \n",
       "\n",
       "                                                 BIO  Season Number  ASP  \\\n",
       "0                                                non            1.0    0   \n",
       "1  PROFESSIONAL CAREER\\nHolds career averages of ...            1.0    0   \n",
       "2  PROFESSIONAL CAREER\\n2018-19 NBA MVP 3-time NB...            1.0    0   \n",
       "3  PROFESSIONAL CAREER\\n2019-20: Appeared in 66 g...            1.0    0   \n",
       "4  PROFESSIONAL CAREER\\nLed all rookies on +.500 ...            1.0    0   \n",
       "\n",
       "   EFF_binned  Minute_binned  \n",
       "0           4              4  \n",
       "1           4              4  \n",
       "2           4              4  \n",
       "3           3              4  \n",
       "4           3              4  \n",
       "\n",
       "[5 rows x 30 columns]"
      ]
     },
     "execution_count": 42,
     "metadata": {},
     "output_type": "execute_result"
    }
   ],
   "source": [
    "bins=[0,10,20,30,40]#0<x<=n\n",
    "labels=[1,2,3,4]\n",
    "df['EFF_binned']=pd.cut(df['EFF'],bins,labels=labels)\n",
    "df['Minute_binned']=pd.cut(df['Minute'],bins,labels=labels)\n",
    "df.EFF_binned.max()\n",
    "df.head()"
   ]
  },
  {
   "cell_type": "code",
   "execution_count": 43,
   "id": "ce0029d6",
   "metadata": {},
   "outputs": [
    {
     "data": {
      "text/plain": [
       "(array([ 952.,    0.,    0., 1280.,    0.,    0.,  301.,    0.,    0.,\n",
       "          34.]),\n",
       " array([1. , 1.3, 1.6, 1.9, 2.2, 2.5, 2.8, 3.1, 3.4, 3.7, 4. ]),\n",
       " <BarContainer object of 10 artists>)"
      ]
     },
     "execution_count": 43,
     "metadata": {},
     "output_type": "execute_result"
    },
    {
     "data": {
      "image/png": "[encoded data removed]",
      "text/plain": [
       "<Figure size 432x288 with 1 Axes>"
      ]
     },
     "metadata": {
      "needs_background": "light"
     },
     "output_type": "display_data"
    }
   ],
   "source": [
    "plt.hist(df[\"EFF_binned\"])#EFF frequency by division into 4 groups"
   ]
  },
  {
   "cell_type": "code",
   "execution_count": 44,
   "id": "8ea727ac",
   "metadata": {},
   "outputs": [
    {
     "name": "stdout",
     "output_type": "stream",
     "text": [
      "      Unnamed: 0.1  Unnamed: 0  ID                   Name Team  GP  Minute  \\\n",
      "0                0           0   1            Luka Doncic  DAL  34    36.9   \n",
      "1                1           1   2            Joel Embiid  PHI  27    35.4   \n",
      "2                2           2   3  Giannis Antetokounmpo  MIL  30    33.7   \n",
      "5                5           5   6          Stephen Curry  GSW  26    34.4   \n",
      "6                6           6   7           Kevin Durant  BKN  35    36.2   \n",
      "17              17          17  18           Nikola Jokic  DEN  33    33.6   \n",
      "50              50          50  51       Domantas Sabonis  SAC  34    33.8   \n",
      "262            262         262   1            Joel Embiid  PHI  68    33.8   \n",
      "263            263         263   2  Giannis Antetokounmpo  MIL  67    32.9   \n",
      "267            267         267   6           Nikola Jokic  DEN  74    33.5   \n",
      "493            493         493   4            Joel Embiid  PHI  51    31.1   \n",
      "494            494         494   5  Giannis Antetokounmpo  MIL  61    33.0   \n",
      "501            501         501  12           Nikola Jokic  DEN  72    34.6   \n",
      "727            727         727   1           James Harden  HOU  68    36.5   \n",
      "731            731         731   5  Giannis Antetokounmpo  MIL  63    30.4   \n",
      "732            732         732   6            Luka Doncic  DAL  61    33.6   \n",
      "988            988         988   1           James Harden  HOU  78    36.8   \n",
      "990            990         990   3  Giannis Antetokounmpo  MIL  72    32.8   \n",
      "991            991         991   4            Joel Embiid  PHI  64    33.7   \n",
      "1000          1000        1000  13     Karl-Anthony Towns  MIN  77    33.1   \n",
      "1246          1246        1246   1           James Harden  HOU  72    35.4   \n",
      "1247          1247        1247   2          Anthony Davis  NOP  75    36.4   \n",
      "1248          1248        1248   3           LeBron James  CLE  82    36.9   \n",
      "1250          1250        1250   5  Giannis Antetokounmpo  MIL  75    36.7   \n",
      "1499          1499        1499   1      Russell Westbrook  OKC  81    34.6   \n",
      "1500          1500        1500   2           James Harden  HOU  81    36.4   \n",
      "1502          1502        1502   4          Anthony Davis  NOP  75    36.1   \n",
      "1506          1506        1506   8           LeBron James  CLE  74    37.8   \n",
      "1510          1510        1510  12     Karl-Anthony Towns  MIN  82    37.0   \n",
      "1511          1511        1511  13           Kevin Durant  GSW  62    33.4   \n",
      "1770          1770        1770   1          Stephen Curry  GSW  79    34.2   \n",
      "2044          2044        2044   4          Anthony Davis  NOP  68    36.1   \n",
      "2308          2308        2308   1           Kevin Durant  OKC  81    38.5   \n",
      "2311          2311        2311   4             Kevin Love  MIN  77    36.3   \n",
      "\n",
      "      Points   FGM   FGA  ...   AST  STL  BLK  TOV   EFF  \\\n",
      "0       34.2  11.6  22.7  ...   8.9  1.7  0.6  3.6  36.6   \n",
      "1       33.2  11.1  21.0  ...   4.6  1.2  1.7  3.9  34.9   \n",
      "2       32.1  11.5  21.5  ...   5.2  0.9  0.9  3.8  32.4   \n",
      "5       30.0  10.1  20.2  ...   6.8  1.0  0.3  3.1  31.1   \n",
      "6       29.7  10.6  18.9  ...   5.3  0.8  1.5  3.5  31.8   \n",
      "17      25.7   9.6  15.5  ...   9.5  1.4  0.6  3.4  37.6   \n",
      "50      18.6   6.9  11.0  ...   6.6  0.8  0.5  2.5  30.8   \n",
      "262     30.6   9.8  19.6  ...   4.2  1.1  1.5  3.1  33.9   \n",
      "263     29.9  10.3  18.6  ...   5.8  1.1  1.4  3.3  35.0   \n",
      "267     27.1  10.3  17.7  ...   7.9  1.5  0.9  3.8  38.7   \n",
      "493     28.5   9.0  17.6  ...   2.8  1.0  1.4  3.1  31.0   \n",
      "494     28.1  10.3  18.0  ...   5.9  1.2  1.2  3.4  33.2   \n",
      "501     26.4  10.2  18.0  ...   8.3  1.3  0.7  3.1  35.9   \n",
      "727     34.3   9.9  22.3  ...   7.5  1.8  0.9  4.5  32.6   \n",
      "731     29.5  10.9  19.7  ...   5.6  1.0  1.0  3.7  34.6   \n",
      "732     28.8   9.5  20.6  ...   8.8  1.0  0.2  4.3  30.8   \n",
      "988     36.1  10.8  24.5  ...   7.5  2.0  0.7  5.0  33.1   \n",
      "990     27.7  10.0  17.3  ...   5.9  1.3  1.5  3.7  35.3   \n",
      "991     27.5   9.1  18.7  ...   3.7  0.7  1.9  3.5  32.2   \n",
      "1000    24.4   8.8  17.1  ...   3.4  0.9  1.6  3.1  30.4   \n",
      "1246    30.4   9.0  20.1  ...   8.8  1.8  0.7  4.4  30.1   \n",
      "1247    28.1  10.4  19.5  ...   2.3  1.5  2.6  2.2  33.0   \n",
      "1248    27.5  10.5  19.3  ...   9.1  1.4  0.9  4.2  32.7   \n",
      "1250    26.9   9.9  18.7  ...   4.8  1.5  1.4  3.0  30.7   \n",
      "1499    31.6  10.2  24.0  ...  10.4  1.6  0.4  5.4  33.8   \n",
      "1500    29.1   8.3  18.9  ...  11.2  1.5  0.5  5.7  32.4   \n",
      "1502    28.0  10.3  20.3  ...   2.1  1.3  2.2  2.4  31.1   \n",
      "1506    26.4   9.9  18.2  ...   8.7  1.2  0.6  4.1  31.0   \n",
      "1510    25.1   9.8  18.0  ...   2.7  0.7  1.3  2.6  30.3   \n",
      "1511    25.1   8.9  16.5  ...   4.8  1.1  1.6  2.2  30.2   \n",
      "1770    30.1  10.2  20.2  ...   6.7  2.1  0.2  3.3  30.7   \n",
      "2044    24.4   9.4  17.6  ...   2.2  1.5  2.9  1.4  30.3   \n",
      "2308    32.0  10.5  20.8  ...   5.5  1.3  0.7  3.5  31.8   \n",
      "2311    26.1   8.4  18.5  ...   4.4  0.8  0.5  2.5  30.2   \n",
      "\n",
      "                                                    BIO  Season Number  ASP  \\\n",
      "0                                                   non            1.0    0   \n",
      "1     PROFESSIONAL CAREER\\nHolds career averages of ...            1.0    0   \n",
      "2     PROFESSIONAL CAREER\\n2018-19 NBA MVP 3-time NB...            1.0    0   \n",
      "5     PROFESSIONAL CAREER\\nSelected by the Golden St...            1.0    0   \n",
      "6     PROFESSIONAL CAREER\\nHas appeared in 849 games...            1.0    0   \n",
      "17    PROFESSIONAL CAREER\\nDenver Nuggets (2015–pres...            1.0    0   \n",
      "50    PROFESSIONAL CAREER\\nOver his three NBA season...            1.0    0   \n",
      "262   PROFESSIONAL CAREER\\nHolds career averages of ...            2.0    1   \n",
      "263   PROFESSIONAL CAREER\\n2018-19 NBA MVP 3-time NB...            2.0    1   \n",
      "267   PROFESSIONAL CAREER\\nDenver Nuggets (2015–pres...            2.0    0   \n",
      "493   PROFESSIONAL CAREER\\nHolds career averages of ...            3.0    0   \n",
      "494   PROFESSIONAL CAREER\\n2018-19 NBA MVP 3-time NB...            3.0    1   \n",
      "501   PROFESSIONAL CAREER\\nDenver Nuggets (2015–pres...            3.0    0   \n",
      "727   PROFESSIONAL CAREER\\nJames Harden was the thir...            4.0    1   \n",
      "731   PROFESSIONAL CAREER\\n2018-19 NBA MVP 3-time NB...            4.0    1   \n",
      "732   PROFESSIONAL CAREER\\nLuka Dončić (LOO-kuh DON-...            4.0    0   \n",
      "988   PROFESSIONAL CAREER\\nJames Harden was the thir...            5.0    1   \n",
      "990   PROFESSIONAL CAREER\\n2018-19 NBA MVP 3-time NB...            5.0    1   \n",
      "991   PROFESSIONAL CAREER\\nHolds career averages of ...            5.0    1   \n",
      "1000  PROFESSIONAL CAREER\\nTowns was the first-overa...            5.0    1   \n",
      "1246  PROFESSIONAL CAREER\\nJames Harden was the thir...            6.0    1   \n",
      "1247  PROFESSIONAL CAREER\\nNBA Champion (2020) ... E...            6.0    1   \n",
      "1248  PROFESSIONAL CAREER\\nFour-time NBA Champion (2...            6.0    1   \n",
      "1250  PROFESSIONAL CAREER\\n2018-19 NBA MVP 3-time NB...            6.0    1   \n",
      "1499  PROFESSIONAL CAREER\\n2016-17 NBA Most Valuable...            7.0    1   \n",
      "1500  PROFESSIONAL CAREER\\nJames Harden was the thir...            7.0    1   \n",
      "1502  PROFESSIONAL CAREER\\nNBA Champion (2020) ... E...            7.0    1   \n",
      "1506  PROFESSIONAL CAREER\\nFour-time NBA Champion (2...            7.0    1   \n",
      "1510  PROFESSIONAL CAREER\\nTowns was the first-overa...            7.0    0   \n",
      "1511  PROFESSIONAL CAREER\\nHas appeared in 849 games...            7.0    1   \n",
      "1770  PROFESSIONAL CAREER\\nSelected by the Golden St...            8.0    1   \n",
      "2044  PROFESSIONAL CAREER\\nNBA Champion (2020) ... E...            9.0    0   \n",
      "2308  PROFESSIONAL CAREER\\nHas appeared in 849 games...           10.0    1   \n",
      "2311  PROFESSIONAL CAREER\\nDRAFTED: Selected by the ...           10.0    1   \n",
      "\n",
      "      EFF_binned  Minute_binned  \n",
      "0              4              4  \n",
      "1              4              4  \n",
      "2              4              4  \n",
      "5              4              4  \n",
      "6              4              4  \n",
      "17             4              4  \n",
      "50             4              4  \n",
      "262            4              4  \n",
      "263            4              4  \n",
      "267            4              4  \n",
      "493            4              4  \n",
      "494            4              4  \n",
      "501            4              4  \n",
      "727            4              4  \n",
      "731            4              4  \n",
      "732            4              4  \n",
      "988            4              4  \n",
      "990            4              4  \n",
      "991            4              4  \n",
      "1000           4              4  \n",
      "1246           4              4  \n",
      "1247           4              4  \n",
      "1248           4              4  \n",
      "1250           4              4  \n",
      "1499           4              4  \n",
      "1500           4              4  \n",
      "1502           4              4  \n",
      "1506           4              4  \n",
      "1510           4              4  \n",
      "1511           4              4  \n",
      "1770           4              4  \n",
      "2044           4              4  \n",
      "2308           4              4  \n",
      "2311           4              4  \n",
      "\n",
      "[34 rows x 30 columns]\n"
     ]
    }
   ],
   "source": [
    "df.EFF_binned[df.EFF_binned>=4].count()/df.EFF_binned.count()#הסתברות לקבלת שחקן מקבוצה 4\n",
    "df.FGM[df.EFF_binned>=4]\n",
    "filtered_df = df[df.EFF_binned >= 4]\n",
    "print(filtered_df)"
   ]
  },
  {
   "cell_type": "code",
   "execution_count": 45,
   "id": "6c4bc3ed",
   "metadata": {},
   "outputs": [
    {
     "data": {
      "text/plain": [
       "(14074.457269978102,\n",
       " 0.771321807211279,\n",
       " 14200,\n",
       " array([[0.00623296, 0.00623296, 0.01246591, ..., 0.00623296, 0.00623296,\n",
       "         0.00623296],\n",
       "        [0.00545384, 0.00545384, 0.01090767, ..., 0.00545384, 0.00545384,\n",
       "         0.00545384],\n",
       "        [0.0077912 , 0.0077912 , 0.01558239, ..., 0.0077912 , 0.0077912 ,\n",
       "         0.0077912 ],\n",
       "        ...,\n",
       "        [0.04674718, 0.04674718, 0.09349435, ..., 0.04674718, 0.04674718,\n",
       "         0.04674718],\n",
       "        [0.05531749, 0.05531749, 0.11063498, ..., 0.05531749, 0.05531749,\n",
       "         0.05531749],\n",
       "        [0.00077912, 0.00077912, 0.00155824, ..., 0.00077912, 0.00077912,\n",
       "         0.00077912]]))"
      ]
     },
     "execution_count": 45,
     "metadata": {},
     "output_type": "execute_result"
    },
    {
     "data": {
      "image/png": "[encoded data removed]",
      "text/plain": [
       "<Figure size 360x144 with 1 Axes>"
      ]
     },
     "metadata": {
      "needs_background": "light"
     },
     "output_type": "display_data"
    }
   ],
   "source": [
    "ct2=pd.crosstab(df['Minute_binned'],df['EFF_binned'],normalize='index')\n",
    "ct1=pd.crosstab(df['GP'],df['EFF'])\n",
    "ct2\n",
    "ct2.plot(kind='bar',figsize=(5,2))\n",
    "plt.title('Minute Played VS Efficiency ')\n",
    "plt.xlabel('Minute Played')\n",
    "plt.ylabel('Relative Efficiency')#מוזר לראות שכמות המשחקים ששחקן שיחק ורמת היעלות של השחקן\n",
    "chi2_contingency(ct1)# אינם תלוים זה בזה על פי מבחן חי בריבוע\n",
    "#ct1=pd.crosstab(df['Minute'],df['FTA'])\n",
    "#chi2_contingency(ct1)"
   ]
  },
  {
   "cell_type": "code",
   "execution_count": 140,
   "id": "d76f1a14",
   "metadata": {
    "scrolled": true
   },
   "outputs": [
    {
     "data": {
      "image/png": "[encoded data removed]",
      "text/plain": [
       "<Figure size 432x288 with 1 Axes>"
      ]
     },
     "metadata": {
      "needs_background": "light"
     },
     "output_type": "display_data"
    }
   ],
   "source": [
    "fig=plt.figure()\n",
    "ax=plt.axes()\n",
    "ax.scatter(df['FGA'], df['FGM'])\n",
    "plt.title('Players With Score 4 in EFF ')\n",
    "plt.xlabel('Field Goal Attempts')\n",
    "plt.ylabel('Field Goals Made')\n",
    "ax.scatter(df['FGA'][df.ASP==1], df['FGM'][df.ASP==1], c='red')\n",
    "plt.show()"
   ]
  },
  {
   "cell_type": "code",
   "execution_count": 48,
   "id": "52a20219",
   "metadata": {},
   "outputs": [
    {
     "data": {
      "text/plain": [
       "<mpl_toolkits.mplot3d.art3d.Path3DCollection at 0x1c1c93da2e0>"
      ]
     },
     "execution_count": 48,
     "metadata": {},
     "output_type": "execute_result"
    },
    {
     "data": {
      "image/png": "[encoded data removed]",
      "text/plain": [
       "<Figure size 432x288 with 1 Axes>"
      ]
     },
     "metadata": {
      "needs_background": "light"
     },
     "output_type": "display_data"
    }
   ],
   "source": [
    "ax=plt.axes(projection='3d')\n",
    "xdata=df['3PM']\n",
    "ydata=df.FGM\n",
    "zdata=df.EFF\n",
    "plt.xlabel('3 point made')\n",
    "plt.ylabel('Field Goals Made')\n",
    "ax.scatter3D(xdata,ydata,zdata,c=zdata,depthshade=False)"
   ]
  },
  {
   "cell_type": "code",
   "execution_count": 49,
   "id": "248bb0c3",
   "metadata": {},
   "outputs": [
    {
     "data": {
      "text/plain": [
       "1176"
      ]
     },
     "execution_count": 49,
     "metadata": {},
     "output_type": "execute_result"
    }
   ],
   "source": [
    "#df[df['BIO'] == 'non']\n",
    "df.BIO[df.BIO==\"non\"].count()"
   ]
  },
  {
   "cell_type": "code",
   "execution_count": 121,
   "id": "ec01589e",
   "metadata": {},
   "outputs": [
    {
     "name": "stdout",
     "output_type": "stream",
     "text": [
      "<class 'pandas.core.frame.DataFrame'>\n",
      "RangeIndex: 2567 entries, 0 to 2566\n",
      "Data columns (total 26 columns):\n",
      " #   Column         Non-Null Count  Dtype  \n",
      "---  ------         --------------  -----  \n",
      " 0   ID             2567 non-null   int64  \n",
      " 1   Name           2567 non-null   object \n",
      " 2   Team           2567 non-null   object \n",
      " 3   GP             2567 non-null   int64  \n",
      " 4   Minute         2567 non-null   float64\n",
      " 5   Points         2567 non-null   float64\n",
      " 6   FGM            2567 non-null   float64\n",
      " 7   FGA            2567 non-null   float64\n",
      " 8   FG_P           2567 non-null   float64\n",
      " 9   3PM            2567 non-null   float64\n",
      " 10  3PA            2567 non-null   float64\n",
      " 11  3P%            2567 non-null   float64\n",
      " 12  FTM            2567 non-null   float64\n",
      " 13  FTA            2567 non-null   float64\n",
      " 14  FT%            2567 non-null   float64\n",
      " 15  OREB           2567 non-null   float64\n",
      " 16  DREB           2567 non-null   float64\n",
      " 17  REB            2567 non-null   float64\n",
      " 18  AST            2567 non-null   float64\n",
      " 19  STL            2567 non-null   float64\n",
      " 20  BLK            2567 non-null   float64\n",
      " 21  TOV            2567 non-null   float64\n",
      " 22  EFF            2567 non-null   float64\n",
      " 23  BIO            2567 non-null   object \n",
      " 24  Season Number  2567 non-null   float64\n",
      " 25  ASP            2567 non-null   int64  \n",
      "dtypes: float64(20), int64(3), object(3)\n",
      "memory usage: 521.5+ KB\n"
     ]
    }
   ],
   "source": [
    "df.info()"
   ]
  },
  {
   "cell_type": "code",
   "execution_count": 108,
   "id": "3e6241f2",
   "metadata": {},
   "outputs": [],
   "source": [
    "m=linear_model.LinearRegression().fit(df.iloc[:,7:8],df.iloc[:,6:7])"
   ]
  },
  {
   "cell_type": "code",
   "execution_count": 138,
   "id": "006d1893",
   "metadata": {},
   "outputs": [
    {
     "name": "stderr",
     "output_type": "stream",
     "text": [
      "C:\\Users\\eldar\\AppData\\Local\\Temp\\ipykernel_23360\\3403487083.py:2: UserWarning: color is redundantly defined by the 'color' keyword argument and the fmt string \"k\" (-> color=(0.0, 0.0, 0.0, 1)). The keyword argument will take precedence.\n",
      "  plt.plot(df['FGA'],m.predict(df.iloc[:,7:8]),'k',color='blue',linewidth=3)\n"
     ]
    },
    {
     "data": {
      "image/png": "[encoded data removed]",
      "text/plain": [
       "<Figure size 432x288 with 1 Axes>"
      ]
     },
     "metadata": {
      "needs_background": "light"
     },
     "output_type": "display_data"
    }
   ],
   "source": [
    "plt.scatter(x=df['FGA'],y= df['FGM'],c='k',marker='*',label='colors')\n",
    "plt.plot(df['FGA'],m.predict(df.iloc[:,7:8]),'k',color='blue',linewidth=3)\n",
    "plt.ylim(0,10)\n",
    "plt.xlim(0,20)\n",
    "plt.xlabel('FGA')\n",
    "plt.ylabel('FGM')\n",
    "plt.show()"
   ]
  },
  {
   "cell_type": "code",
   "execution_count": 113,
   "id": "04d0f178",
   "metadata": {},
   "outputs": [
    {
     "name": "stdout",
     "output_type": "stream",
     "text": [
      "695.2833120660212\n"
     ]
    }
   ],
   "source": [
    "def sse(Y, Y_HAT):\n",
    "    sse = sum([(y - y_hat)**2 for y,y_hat in zip(Y, Y_HAT)])\n",
    "    return sse\n",
    "\n",
    "SSE = sse(df.FGM.tolist(),m.predict(df.iloc[:,7:8]).flatten())\n",
    "\n",
    "print(SSE)"
   ]
  },
  {
   "cell_type": "code",
   "execution_count": 114,
   "id": "09f90dd1",
   "metadata": {},
   "outputs": [
    {
     "data": {
      "text/plain": [
       "695.283312066019"
      ]
     },
     "execution_count": 114,
     "metadata": {},
     "output_type": "execute_result"
    }
   ],
   "source": [
    "from sklearn.metrics import mean_squared_error\n",
    "\n",
    "mean_squared_error(df.FGM.tolist(),m.predict(df.iloc[:,7:8]).flatten())*len(df.FGM.tolist())"
   ]
  },
  {
   "cell_type": "code",
   "execution_count": 141,
   "id": "2b8d531a",
   "metadata": {},
   "outputs": [
    {
     "data": {
      "text/plain": [
       "0.9383906701151433"
      ]
     },
     "execution_count": 141,
     "metadata": {},
     "output_type": "execute_result"
    }
   ],
   "source": [
    "from sklearn.metrics import r2_score\n",
    "\n",
    "r2_score(df.FGM.tolist(),m.predict(df.iloc[:,7:8]).flatten())"
   ]
  },
  {
   "cell_type": "code",
   "execution_count": 118,
   "id": "ed1fa380",
   "metadata": {},
   "outputs": [
    {
     "name": "stdout",
     "output_type": "stream",
     "text": [
      "b1: [[0.45890504]]\n",
      "b0: [0.03440137]\n"
     ]
    }
   ],
   "source": [
    "print(\"b1:\",m.coef_)\n",
    "print(\"b0:\",m.intercept_)"
   ]
  },
  {
   "cell_type": "code",
   "execution_count": 134,
   "id": "519d3777",
   "metadata": {},
   "outputs": [],
   "source": [
    "m2 = linear_model.LinearRegression().fit(df.iloc[:,3:4],df.iloc[:,4:5])"
   ]
  },
  {
   "cell_type": "code",
   "execution_count": 145,
   "id": "6efd6c10",
   "metadata": {},
   "outputs": [
    {
     "name": "stderr",
     "output_type": "stream",
     "text": [
      "C:\\Users\\eldar\\anaconda3\\lib\\site-packages\\sklearn\\base.py:493: FutureWarning: The feature names should match those that were passed during fit. Starting version 1.2, an error will be raised.\n",
      "Feature names unseen at fit time:\n",
      "- GP\n",
      "Feature names seen at fit time, yet now missing:\n",
      "- FGA\n",
      "\n",
      "  warnings.warn(message, FutureWarning)\n",
      "C:\\Users\\eldar\\AppData\\Local\\Temp\\ipykernel_23360\\755690668.py:2: UserWarning: color is redundantly defined by the 'color' keyword argument and the fmt string \"k\" (-> color=(0.0, 0.0, 0.0, 1)). The keyword argument will take precedence.\n",
      "  plt.plot(df['GP'],m.predict(df.iloc[:,3:4]),'k',color='blue',linewidth=3)\n"
     ]
    },
    {
     "data": {
      "image/png": "[encoded data removed]",
      "text/plain": [
       "<Figure size 432x288 with 1 Axes>"
      ]
     },
     "metadata": {
      "needs_background": "light"
     },
     "output_type": "display_data"
    }
   ],
   "source": [
    "plt.scatter(x=df['GP'],y= df['Minute'],c='k',marker='*',label='colors')\n",
    "plt.plot(df['GP'],m.predict(df.iloc[:,3:4]),'k',color='blue',linewidth=3)\n",
    "plt.ylim(15,40)\n",
    "plt.xlim(20,82)\n",
    "plt.xlabel('FGM')\n",
    "plt.ylabel('EFF')\n",
    "plt.show()"
   ]
  },
  {
   "cell_type": "code",
   "execution_count": 130,
   "id": "2d8f3c2e",
   "metadata": {},
   "outputs": [
    {
     "name": "stdout",
     "output_type": "stream",
     "text": [
      "<class 'pandas.core.frame.DataFrame'>\n",
      "RangeIndex: 2567 entries, 0 to 2566\n",
      "Data columns (total 26 columns):\n",
      " #   Column         Non-Null Count  Dtype  \n",
      "---  ------         --------------  -----  \n",
      " 0   ID             2567 non-null   int64  \n",
      " 1   Name           2567 non-null   object \n",
      " 2   Team           2567 non-null   object \n",
      " 3   GP             2567 non-null   int64  \n",
      " 4   Minute         2567 non-null   float64\n",
      " 5   Points         2567 non-null   float64\n",
      " 6   FGM            2567 non-null   float64\n",
      " 7   FGA            2567 non-null   float64\n",
      " 8   FG_P           2567 non-null   float64\n",
      " 9   3PM            2567 non-null   float64\n",
      " 10  3PA            2567 non-null   float64\n",
      " 11  3P%            2567 non-null   float64\n",
      " 12  FTM            2567 non-null   float64\n",
      " 13  FTA            2567 non-null   float64\n",
      " 14  FT%            2567 non-null   float64\n",
      " 15  OREB           2567 non-null   float64\n",
      " 16  DREB           2567 non-null   float64\n",
      " 17  REB            2567 non-null   float64\n",
      " 18  AST            2567 non-null   float64\n",
      " 19  STL            2567 non-null   float64\n",
      " 20  BLK            2567 non-null   float64\n",
      " 21  TOV            2567 non-null   float64\n",
      " 22  EFF            2567 non-null   float64\n",
      " 23  BIO            2567 non-null   object \n",
      " 24  Season Number  2567 non-null   float64\n",
      " 25  ASP            2567 non-null   int64  \n",
      "dtypes: float64(20), int64(3), object(3)\n",
      "memory usage: 521.5+ KB\n"
     ]
    }
   ],
   "source": [
    "df.info()"
   ]
  },
  {
   "cell_type": "code",
   "execution_count": 142,
   "id": "3e749beb",
   "metadata": {},
   "outputs": [
    {
     "data": {
      "text/html": [
       "<div>\n",
       "<style scoped>\n",
       "    .dataframe tbody tr th:only-of-type {\n",
       "        vertical-align: middle;\n",
       "    }\n",
       "\n",
       "    .dataframe tbody tr th {\n",
       "        vertical-align: top;\n",
       "    }\n",
       "\n",
       "    .dataframe thead th {\n",
       "        text-align: right;\n",
       "    }\n",
       "</style>\n",
       "<table border=\"1\" class=\"dataframe\">\n",
       "  <thead>\n",
       "    <tr style=\"text-align: right;\">\n",
       "      <th></th>\n",
       "      <th>FGA</th>\n",
       "    </tr>\n",
       "  </thead>\n",
       "  <tbody>\n",
       "    <tr>\n",
       "      <th>0</th>\n",
       "      <td>22.7</td>\n",
       "    </tr>\n",
       "    <tr>\n",
       "      <th>1</th>\n",
       "      <td>21.0</td>\n",
       "    </tr>\n",
       "    <tr>\n",
       "      <th>2</th>\n",
       "      <td>21.5</td>\n",
       "    </tr>\n",
       "    <tr>\n",
       "      <th>3</th>\n",
       "      <td>21.4</td>\n",
       "    </tr>\n",
       "    <tr>\n",
       "      <th>4</th>\n",
       "      <td>20.6</td>\n",
       "    </tr>\n",
       "    <tr>\n",
       "      <th>...</th>\n",
       "      <td>...</td>\n",
       "    </tr>\n",
       "    <tr>\n",
       "      <th>2562</th>\n",
       "      <td>2.2</td>\n",
       "    </tr>\n",
       "    <tr>\n",
       "      <th>2563</th>\n",
       "      <td>1.2</td>\n",
       "    </tr>\n",
       "    <tr>\n",
       "      <th>2564</th>\n",
       "      <td>2.1</td>\n",
       "    </tr>\n",
       "    <tr>\n",
       "      <th>2565</th>\n",
       "      <td>1.9</td>\n",
       "    </tr>\n",
       "    <tr>\n",
       "      <th>2566</th>\n",
       "      <td>1.6</td>\n",
       "    </tr>\n",
       "  </tbody>\n",
       "</table>\n",
       "<p>2567 rows × 1 columns</p>\n",
       "</div>"
      ],
      "text/plain": [
       "       FGA\n",
       "0     22.7\n",
       "1     21.0\n",
       "2     21.5\n",
       "3     21.4\n",
       "4     20.6\n",
       "...    ...\n",
       "2562   2.2\n",
       "2563   1.2\n",
       "2564   2.1\n",
       "2565   1.9\n",
       "2566   1.6\n",
       "\n",
       "[2567 rows x 1 columns]"
      ]
     },
     "execution_count": 142,
     "metadata": {},
     "output_type": "execute_result"
    }
   ],
   "source": [
    "df.iloc[:,7:8]"
   ]
  },
  {
   "cell_type": "code",
   "execution_count": null,
   "id": "6b9dccc5",
   "metadata": {},
   "outputs": [],
   "source": []
  }
 ],
 "metadata": {
  "kernelspec": {
   "display_name": "Python 3 (ipykernel)",
   "language": "python",
   "name": "python3"
  },
  "language_info": {
   "codemirror_mode": {
    "name": "ipython",
    "version": 3
   },
   "file_extension": ".py",
   "mimetype": "text/x-python",
   "name": "python",
   "nbconvert_exporter": "python",
   "pygments_lexer": "ipython3",
   "version": "3.9.12"
  }
 },
 "nbformat": 4,
 "nbformat_minor": 5
}
